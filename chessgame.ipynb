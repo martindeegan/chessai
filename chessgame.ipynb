{
 "cells": [
  {
   "cell_type": "code",
   "execution_count": 1,
   "metadata": {},
   "outputs": [],
   "source": [
    "import chess\n",
    "import chess.uci\n",
    "import random"
   ]
  },
  {
   "cell_type": "code",
   "execution_count": 2,
   "metadata": {},
   "outputs": [],
   "source": [
    "class Engine:\n",
    "    #search_time is analogous to difficulty\n",
    "    def __init__(self, name, location, search_time):\n",
    "        self.name = name\n",
    "        self.engine = chess.uci.popen_engine(location)\n",
    "        self.time = search_time\n",
    "    \n",
    "    def make_move(self, board):\n",
    "        self.engine.position(board)\n",
    "        random.uniform(max(0.0, self.time - 150.0), self.time + 150.0)\n",
    "        move = self.engine.go(movetime=self.time)[0]\n",
    "        return move\n",
    "    \n",
    "    def reset(self):\n",
    "        self.engine.ucinewgame()"
   ]
  },
  {
   "cell_type": "code",
   "execution_count": 3,
   "metadata": {},
   "outputs": [],
   "source": [
    "from IPython.display import clear_output\n",
    "\n",
    "class Human():\n",
    "    def __init__(self, name):\n",
    "        self.name = name\n",
    "        \n",
    "    def make_move(self, board):\n",
    "        clear_output()\n",
    "        print(\"Player \" + self.name + \"'s turn.\")\n",
    "        print(board)\n",
    "        print(board.legal_moves)\n",
    "        uic_move = input()\n",
    "        move = chess.Move(chess.A1, chess.A1)\n",
    "        try:\n",
    "            move = chess.Move.from_uci(uic_move)\n",
    "        except:\n",
    "            pass\n",
    "        return move\n",
    "    \n",
    "    def reset(self):\n",
    "        pass"
   ]
  },
  {
   "cell_type": "code",
   "execution_count": 4,
   "metadata": {},
   "outputs": [],
   "source": [
    "class Game:\n",
    "    def __init__(self, player1, player2):\n",
    "        self.board = chess.Board()\n",
    "        # Randomize color\n",
    "        if(bool(random.getrandbits(1))):\n",
    "            print('White: ' + player1.name)\n",
    "            print('Black: ' + player2.name)\n",
    "            self.white = player1\n",
    "            self.black = player2\n",
    "        else:\n",
    "            print('White: ' + player2.name)\n",
    "            print('Black: ' + player1.name)\n",
    "            self.black = player1\n",
    "            self.white = player2\n",
    "        \n",
    "    def make_move(self, move):\n",
    "        if move in self.board.legal_moves:\n",
    "            self.board.push(move)\n",
    "        else:\n",
    "            for i in self.board.legal_moves:\n",
    "                self.board.push(i)\n",
    "                break\n",
    "                \n",
    "    def play_game(self):\n",
    "        self.white.reset()\n",
    "        self.black.reset()\n",
    "        self.board.reset()\n",
    "        print(self.board)\n",
    "        current_player = self.white\n",
    "        while(not self.board.is_game_over()):\n",
    "            move = current_player.make_move(self.board)\n",
    "            self.make_move(move)\n",
    "            if current_player == self.white:\n",
    "                current_player = self.black\n",
    "            else:\n",
    "                current_player = self.white\n",
    "           \n",
    "        if self.board.is_checkmate():\n",
    "            if current_player == self.white:\n",
    "                print(self.black + ' wins!')\n",
    "            else:\n",
    "                print(self.white + 'wins!')\n",
    "        else:\n",
    "            print(\"Stalemate!\")\n",
    "        "
   ]
  },
  {
   "cell_type": "code",
   "execution_count": 5,
   "metadata": {},
   "outputs": [],
   "source": [
    "#Replace this with the location of your chess engine installation\n",
    "stockfish = '/usr/local/Cellar/stockfish/8/bin/stockfish'"
   ]
  },
  {
   "cell_type": "code",
   "execution_count": 6,
   "metadata": {},
   "outputs": [
    {
     "name": "stdout",
     "output_type": "stream",
     "text": [
      "White: Bob\n",
      "Black: Martin\n"
     ]
    }
   ],
   "source": [
    "# Play game with 2 chess engines\n",
    "player1 = Engine('Martin', stockfish, 100)\n",
    "player2 = Engine('Bob', stockfish, 1000)\n",
    "game = Game(player1, player2)"
   ]
  },
  {
   "cell_type": "code",
   "execution_count": 7,
   "metadata": {
    "scrolled": false
   },
   "outputs": [
    {
     "name": "stdout",
     "output_type": "stream",
     "text": [
      "r n b q k b n r\n",
      "p p p p p p p p\n",
      ". . . . . . . .\n",
      ". . . . . . . .\n",
      ". . . . . . . .\n",
      ". . . . . . . .\n",
      "P P P P P P P P\n",
      "R N B Q K B N R\n",
      "Stalemate!\n"
     ]
    }
   ],
   "source": [
    "game.play_game()"
   ]
  },
  {
   "cell_type": "code",
   "execution_count": null,
   "metadata": {},
   "outputs": [],
   "source": []
  }
 ],
 "metadata": {
  "kernelspec": {
   "display_name": "Python 3",
   "language": "python",
   "name": "python3"
  },
  "language_info": {
   "codemirror_mode": {
    "name": "ipython",
    "version": 3
   },
   "file_extension": ".py",
   "mimetype": "text/x-python",
   "name": "python",
   "nbconvert_exporter": "python",
   "pygments_lexer": "ipython3",
   "version": "3.6.2"
  }
 },
 "nbformat": 4,
 "nbformat_minor": 2
}
