{
 "cells": [
  {
   "cell_type": "code",
   "execution_count": 2,
   "metadata": {},
   "outputs": [],
   "source": [
    "import tensorflow as tf\n",
    "import chess"
   ]
  },
  {
   "cell_type": "code",
   "execution_count": null,
   "metadata": {},
   "outputs": [],
   "source": [
    "class DeepAITemplate:\n",
    "    def __init__(self, name):\n",
    "        self.name = name\n",
    "    \n",
    "    #returns in uci format\n",
    "    def compute_move(self):\n",
    "        return \"a1a2\"\n",
    "    \n",
    "    def make_move(self, board):\n",
    "        move = chess.Move(chess.A1,chess.A1)\n",
    "        try:\n",
    "            move = chess.Move.from_uci(self.compute_move())\n",
    "        except:\n",
    "            pass\n",
    "        return move\n",
    "        "
   ]
  }
 ],
 "metadata": {
  "kernelspec": {
   "display_name": "Python 3",
   "language": "python",
   "name": "python3"
  },
  "language_info": {
   "codemirror_mode": {
    "name": "ipython",
    "version": 3
   },
   "file_extension": ".py",
   "mimetype": "text/x-python",
   "name": "python",
   "nbconvert_exporter": "python",
   "pygments_lexer": "ipython3",
   "version": "3.6.2"
  }
 },
 "nbformat": 4,
 "nbformat_minor": 2
}
